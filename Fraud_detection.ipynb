{
  "nbformat": 4,
  "nbformat_minor": 0,
  "metadata": {
    "colab": {
      "name": "Fraud_detection.ipynb",
      "version": "0.3.2",
      "provenance": [],
      "collapsed_sections": [],
      "toc_visible": true,
      "include_colab_link": true
    },
    "kernelspec": {
      "name": "python3",
      "display_name": "Python 3"
    }
  },
  "cells": [
    {
      "cell_type": "markdown",
      "metadata": {
        "id": "view-in-github",
        "colab_type": "text"
      },
      "source": [
        "<a href=\"https://colab.research.google.com/github/peddlem25/CreditCardFraudDetection/blob/master/Fraud_detection.ipynb\" target=\"_parent\"><img src=\"https://colab.research.google.com/assets/colab-badge.svg\" alt=\"Open In Colab\"/></a>"
      ]
    },
    {
      "cell_type": "markdown",
      "metadata": {
        "id": "nKo2jpRpzeMu",
        "colab_type": "text"
      },
      "source": [
        "#FRAUD DETECTION\n",
        "\n",
        "Our Tasks:\n",
        "  \n",
        "  - Explore the datasets/ Visualize\n",
        "  - Decide which features are important\n",
        "  - Preform Machine Learning\n",
        "  - Test the model on the testing set\n",
        "  ***Credit card Data is comign from a Kaggle Dataset and uploaded to google drive named 'creditcard.csv'\n",
        "  \n",
        "  If Class-in-balance in datasets use the clustering method.\n",
        "  "
      ]
    },
    {
      "cell_type": "code",
      "metadata": {
        "id": "yOPDz0N-zqTl",
        "colab_type": "code",
        "colab": {}
      },
      "source": [
        "import numpy as np\n",
        "import sklearn as sk\n",
        "import pandas as pd\n",
        "import matplotlib.pyplot as plt\n",
        "from sklearn.preprocessing import scale\n",
        "import random\n"
      ],
      "execution_count": 0,
      "outputs": []
    },
    {
      "cell_type": "code",
      "metadata": {
        "id": "xHpQAc4o1BeM",
        "colab_type": "code",
        "colab": {
          "base_uri": "https://localhost:8080/",
          "height": 264
        },
        "outputId": "238ae060-a21d-4c70-8b33-d917eac0313b"
      },
      "source": [
        "df = pd.read_csv('creditcard.csv', low_memory=False)\n",
        "df = df.sample(frac=1).reset_index(drop=True)\n",
        "df.head()"
      ],
      "execution_count": 34,
      "outputs": [
        {
          "output_type": "execute_result",
          "data": {
            "text/html": [
              "<div>\n",
              "<style scoped>\n",
              "    .dataframe tbody tr th:only-of-type {\n",
              "        vertical-align: middle;\n",
              "    }\n",
              "\n",
              "    .dataframe tbody tr th {\n",
              "        vertical-align: top;\n",
              "    }\n",
              "\n",
              "    .dataframe thead th {\n",
              "        text-align: right;\n",
              "    }\n",
              "</style>\n",
              "<table border=\"1\" class=\"dataframe\">\n",
              "  <thead>\n",
              "    <tr style=\"text-align: right;\">\n",
              "      <th></th>\n",
              "      <th>Time</th>\n",
              "      <th>V1</th>\n",
              "      <th>V2</th>\n",
              "      <th>V3</th>\n",
              "      <th>V4</th>\n",
              "      <th>V5</th>\n",
              "      <th>V6</th>\n",
              "      <th>V7</th>\n",
              "      <th>V8</th>\n",
              "      <th>V9</th>\n",
              "      <th>V10</th>\n",
              "      <th>V11</th>\n",
              "      <th>V12</th>\n",
              "      <th>V13</th>\n",
              "      <th>V14</th>\n",
              "      <th>V15</th>\n",
              "      <th>V16</th>\n",
              "      <th>V17</th>\n",
              "      <th>V18</th>\n",
              "      <th>V19</th>\n",
              "      <th>V20</th>\n",
              "      <th>V21</th>\n",
              "      <th>V22</th>\n",
              "      <th>V23</th>\n",
              "      <th>V24</th>\n",
              "      <th>V25</th>\n",
              "      <th>V26</th>\n",
              "      <th>V27</th>\n",
              "      <th>V28</th>\n",
              "      <th>Amount</th>\n",
              "      <th>Class</th>\n",
              "    </tr>\n",
              "  </thead>\n",
              "  <tbody>\n",
              "    <tr>\n",
              "      <th>0</th>\n",
              "      <td>121419.0</td>\n",
              "      <td>-0.036686</td>\n",
              "      <td>0.193040</td>\n",
              "      <td>-0.958560</td>\n",
              "      <td>-0.218194</td>\n",
              "      <td>1.444284</td>\n",
              "      <td>-2.054106</td>\n",
              "      <td>0.643573</td>\n",
              "      <td>-0.304380</td>\n",
              "      <td>0.224345</td>\n",
              "      <td>-0.926227</td>\n",
              "      <td>-0.750701</td>\n",
              "      <td>-0.331058</td>\n",
              "      <td>-0.401203</td>\n",
              "      <td>-0.780216</td>\n",
              "      <td>0.218156</td>\n",
              "      <td>0.226374</td>\n",
              "      <td>0.271579</td>\n",
              "      <td>0.779189</td>\n",
              "      <td>-0.773048</td>\n",
              "      <td>-0.075559</td>\n",
              "      <td>0.495379</td>\n",
              "      <td>1.379136</td>\n",
              "      <td>0.216540</td>\n",
              "      <td>-0.041719</td>\n",
              "      <td>-1.628556</td>\n",
              "      <td>-0.469604</td>\n",
              "      <td>0.352817</td>\n",
              "      <td>0.397244</td>\n",
              "      <td>10.00</td>\n",
              "      <td>0</td>\n",
              "    </tr>\n",
              "    <tr>\n",
              "      <th>1</th>\n",
              "      <td>25043.0</td>\n",
              "      <td>-0.292946</td>\n",
              "      <td>1.161832</td>\n",
              "      <td>1.620346</td>\n",
              "      <td>0.240350</td>\n",
              "      <td>0.416745</td>\n",
              "      <td>-0.929579</td>\n",
              "      <td>0.832536</td>\n",
              "      <td>-0.424254</td>\n",
              "      <td>0.887736</td>\n",
              "      <td>-0.692000</td>\n",
              "      <td>0.997581</td>\n",
              "      <td>-2.122614</td>\n",
              "      <td>2.766421</td>\n",
              "      <td>0.594282</td>\n",
              "      <td>0.076387</td>\n",
              "      <td>0.221098</td>\n",
              "      <td>0.577954</td>\n",
              "      <td>-0.016219</td>\n",
              "      <td>-0.294503</td>\n",
              "      <td>0.224500</td>\n",
              "      <td>-0.449076</td>\n",
              "      <td>-0.769967</td>\n",
              "      <td>-0.044330</td>\n",
              "      <td>0.296015</td>\n",
              "      <td>-0.171962</td>\n",
              "      <td>0.001767</td>\n",
              "      <td>0.059937</td>\n",
              "      <td>-0.127592</td>\n",
              "      <td>1.98</td>\n",
              "      <td>0</td>\n",
              "    </tr>\n",
              "    <tr>\n",
              "      <th>2</th>\n",
              "      <td>125675.0</td>\n",
              "      <td>1.999879</td>\n",
              "      <td>0.177177</td>\n",
              "      <td>-1.706486</td>\n",
              "      <td>1.199386</td>\n",
              "      <td>0.664725</td>\n",
              "      <td>-0.628534</td>\n",
              "      <td>0.559776</td>\n",
              "      <td>-0.268718</td>\n",
              "      <td>-0.078450</td>\n",
              "      <td>0.416979</td>\n",
              "      <td>0.480513</td>\n",
              "      <td>1.054039</td>\n",
              "      <td>-0.008744</td>\n",
              "      <td>0.655918</td>\n",
              "      <td>-1.225316</td>\n",
              "      <td>-0.459749</td>\n",
              "      <td>-0.512698</td>\n",
              "      <td>-0.091516</td>\n",
              "      <td>0.186255</td>\n",
              "      <td>-0.252391</td>\n",
              "      <td>0.086166</td>\n",
              "      <td>0.446736</td>\n",
              "      <td>-0.062454</td>\n",
              "      <td>-0.382035</td>\n",
              "      <td>0.479541</td>\n",
              "      <td>-0.488012</td>\n",
              "      <td>-0.017971</td>\n",
              "      <td>-0.074097</td>\n",
              "      <td>13.37</td>\n",
              "      <td>0</td>\n",
              "    </tr>\n",
              "    <tr>\n",
              "      <th>3</th>\n",
              "      <td>55957.0</td>\n",
              "      <td>1.109542</td>\n",
              "      <td>-0.751904</td>\n",
              "      <td>1.499266</td>\n",
              "      <td>0.513533</td>\n",
              "      <td>-1.582488</td>\n",
              "      <td>0.416214</td>\n",
              "      <td>-1.357137</td>\n",
              "      <td>0.410273</td>\n",
              "      <td>-0.522522</td>\n",
              "      <td>0.947178</td>\n",
              "      <td>1.189435</td>\n",
              "      <td>0.119435</td>\n",
              "      <td>-0.717576</td>\n",
              "      <td>0.143172</td>\n",
              "      <td>1.049982</td>\n",
              "      <td>-0.800039</td>\n",
              "      <td>-0.359172</td>\n",
              "      <td>2.058270</td>\n",
              "      <td>-1.752918</td>\n",
              "      <td>-0.549262</td>\n",
              "      <td>-0.011610</td>\n",
              "      <td>0.371222</td>\n",
              "      <td>0.043044</td>\n",
              "      <td>0.158878</td>\n",
              "      <td>0.073060</td>\n",
              "      <td>-0.236623</td>\n",
              "      <td>0.101340</td>\n",
              "      <td>0.039847</td>\n",
              "      <td>39.00</td>\n",
              "      <td>0</td>\n",
              "    </tr>\n",
              "    <tr>\n",
              "      <th>4</th>\n",
              "      <td>54316.0</td>\n",
              "      <td>-0.411092</td>\n",
              "      <td>-0.624778</td>\n",
              "      <td>1.917760</td>\n",
              "      <td>-0.741463</td>\n",
              "      <td>-0.215804</td>\n",
              "      <td>-0.085823</td>\n",
              "      <td>-0.404073</td>\n",
              "      <td>0.017429</td>\n",
              "      <td>-1.083655</td>\n",
              "      <td>0.664736</td>\n",
              "      <td>1.172230</td>\n",
              "      <td>0.545921</td>\n",
              "      <td>0.045961</td>\n",
              "      <td>-0.368393</td>\n",
              "      <td>-0.576436</td>\n",
              "      <td>-2.548667</td>\n",
              "      <td>0.851481</td>\n",
              "      <td>0.813834</td>\n",
              "      <td>0.736662</td>\n",
              "      <td>-0.138582</td>\n",
              "      <td>-0.298585</td>\n",
              "      <td>-0.099074</td>\n",
              "      <td>0.022514</td>\n",
              "      <td>0.304570</td>\n",
              "      <td>-0.703445</td>\n",
              "      <td>1.505096</td>\n",
              "      <td>-0.087354</td>\n",
              "      <td>-0.098987</td>\n",
              "      <td>3.90</td>\n",
              "      <td>0</td>\n",
              "    </tr>\n",
              "  </tbody>\n",
              "</table>\n",
              "</div>"
            ],
            "text/plain": [
              "       Time        V1        V2        V3  ...       V27       V28  Amount  Class\n",
              "0  121419.0 -0.036686  0.193040 -0.958560  ...  0.352817  0.397244   10.00      0\n",
              "1   25043.0 -0.292946  1.161832  1.620346  ...  0.059937 -0.127592    1.98      0\n",
              "2  125675.0  1.999879  0.177177 -1.706486  ... -0.017971 -0.074097   13.37      0\n",
              "3   55957.0  1.109542 -0.751904  1.499266  ...  0.101340  0.039847   39.00      0\n",
              "4   54316.0 -0.411092 -0.624778  1.917760  ... -0.087354 -0.098987    3.90      0\n",
              "\n",
              "[5 rows x 31 columns]"
            ]
          },
          "metadata": {
            "tags": []
          },
          "execution_count": 34
        }
      ]
    },
    {
      "cell_type": "markdown",
      "metadata": {
        "id": "s08Tw3iFBENl",
        "colab_type": "text"
      },
      "source": [
        "Show how many Fraud and Non Fraud cases their are"
      ]
    },
    {
      "cell_type": "code",
      "metadata": {
        "id": "SjaVKYqEAW-3",
        "colab_type": "code",
        "colab": {
          "base_uri": "https://localhost:8080/",
          "height": 51
        },
        "outputId": "db0606eb-f79c-4408-9464-486731887c41"
      },
      "source": [
        "fraud = df.loc[df['Class'] == 1]\n",
        "non_frauds = df.loc[df['Class'] == 0]\n",
        "print(len(fraud))\n",
        "print(len(non_frauds))"
      ],
      "execution_count": 35,
      "outputs": [
        {
          "output_type": "stream",
          "text": [
            "492\n",
            "284315\n"
          ],
          "name": "stdout"
        }
      ]
    },
    {
      "cell_type": "markdown",
      "metadata": {
        "id": "Rt9j3DCxC4k2",
        "colab_type": "text"
      },
      "source": [
        "Visualize the *Fraud* VS the *Non Fraud* cases in dollar based transaction sizes.\n"
      ]
    },
    {
      "cell_type": "code",
      "metadata": {
        "id": "W06VyiDLBDKA",
        "colab_type": "code",
        "colab": {
          "base_uri": "https://localhost:8080/",
          "height": 283
        },
        "outputId": "3375bd71-e6c8-4b0a-a5d4-99f2c1411fc6"
      },
      "source": [
        "ax = fraud.plot.scatter(x='Amount', y='Class', color='Orange', label='Fraud')\n",
        "non_frauds.plot.scatter(x='Amount', y='Class', color='Blue', label='Normal', ax=ax)\n",
        "plt.show()\n"
      ],
      "execution_count": 37,
      "outputs": [
        {
          "output_type": "display_data",
          "data": {
            "image/png": "[encoded data removed]",
            "text/plain": [
              "<Figure size 432x288 with 1 Axes>"
            ]
          },
          "metadata": {
            "tags": []
          }
        }
      ]
    },
    {
      "cell_type": "markdown",
      "metadata": {
        "id": "xBWuW0FEDfON",
        "colab_type": "text"
      },
      "source": [
        "As we can see most if not all Fraud cases are in the amounts less than $5000."
      ]
    },
    {
      "cell_type": "markdown",
      "metadata": {
        "id": "CsnhC4mQFwdc",
        "colab_type": "text"
      },
      "source": [
        "#Machine Learning Time :)"
      ]
    },
    {
      "cell_type": "code",
      "metadata": {
        "id": "eZdopYO6Doaz",
        "colab_type": "code",
        "colab": {}
      },
      "source": [
        "from sklearn import linear_model\n",
        "from sklearn.model_selection import train_test_split"
      ],
      "execution_count": 0,
      "outputs": []
    },
    {
      "cell_type": "markdown",
      "metadata": {
        "id": "VJQLDPzuGq00",
        "colab_type": "text"
      },
      "source": [
        "Train 35%/ Test 65%"
      ]
    },
    {
      "cell_type": "code",
      "metadata": {
        "id": "B0fDNODTGKkH",
        "colab_type": "code",
        "colab": {}
      },
      "source": [
        "x = df.iloc[:, :-1]\n",
        "y = df['Class']\n",
        "\n",
        "X_train, X_test, Y_train, Y_test = train_test_split(x, y, test_size=0.35)"
      ],
      "execution_count": 0,
      "outputs": []
    },
    {
      "cell_type": "markdown",
      "metadata": {
        "id": "6CFOWO6mHWZG",
        "colab_type": "text"
      },
      "source": [
        "1e5 = 100,000. C is a penalty term, used to disincentivize and regulate against over fig."
      ]
    },
    {
      "cell_type": "code",
      "metadata": {
        "id": "Lcq95rxJHFi9",
        "colab_type": "code",
        "colab": {
          "base_uri": "https://localhost:8080/",
          "height": 131
        },
        "outputId": "0d19b42a-f24d-4636-dabb-5b5a58ffaf4e"
      },
      "source": [
        "logistic = linear_model.LogisticRegression(C=1e5)\n",
        "logistic.fit(X_train, Y_train)\n",
        "print('Score;', logistic.score(X_test, Y_test))"
      ],
      "execution_count": 48,
      "outputs": [
        {
          "output_type": "stream",
          "text": [
            "/usr/local/lib/python3.6/dist-packages/sklearn/linear_model/logistic.py:432: FutureWarning: Default solver will be changed to 'lbfgs' in 0.22. Specify a solver to silence this warning.\n",
            "  FutureWarning)\n"
          ],
          "name": "stderr"
        },
        {
          "output_type": "stream",
          "text": [
            "Score; 0.9989767563175266\n"
          ],
          "name": "stdout"
        }
      ]
    },
    {
      "cell_type": "markdown",
      "metadata": {
        "id": "ejwUSy1cIlWM",
        "colab_type": "text"
      },
      "source": [
        "Score is 0.9989%"
      ]
    },
    {
      "cell_type": "code",
      "metadata": {
        "id": "YF9WtfFCInnv",
        "colab_type": "code",
        "colab": {
          "base_uri": "https://localhost:8080/",
          "height": 34
        },
        "outputId": "fcd1ed45-0607-44e3-f7f6-f6c04de544aa"
      },
      "source": [
        "y_predicted = np.array(logistic.predict(X_test))\n",
        "print(y_predicted)"
      ],
      "execution_count": 49,
      "outputs": [
        {
          "output_type": "stream",
          "text": [
            "[0 0 0 ... 0 0 0]\n"
          ],
          "name": "stdout"
        }
      ]
    },
    {
      "cell_type": "markdown",
      "metadata": {
        "id": "YYbV56TqI27P",
        "colab_type": "text"
      },
      "source": [
        "Most is not fraud"
      ]
    },
    {
      "cell_type": "code",
      "metadata": {
        "id": "K-QGafUvI4-5",
        "colab_type": "code",
        "colab": {}
      },
      "source": [
        ""
      ],
      "execution_count": 0,
      "outputs": []
    }
  ]
}