{
  "nbformat": 4,
  "nbformat_minor": 0,
  "metadata": {
    "colab": {
      "name": "Copy of Week3.ipynb",
      "version": "0.3.2",
      "provenance": [],
      "toc_visible": true,
      "include_colab_link": true
    },
    "kernelspec": {
      "name": "python3",
      "display_name": "Python 3"
    }
  },
  "cells": [
    {
      "cell_type": "markdown",
      "metadata": {
        "id": "view-in-github",
        "colab_type": "text"
      },
      "source": [
        "<a href=\"https://colab.research.google.com/github/peddlem25/CreditCardFraudDetection/blob/master/Copy_of_Week3.ipynb\" target=\"_parent\"><img src=\"https://colab.research.google.com/assets/colab-badge.svg\" alt=\"Open In Colab\"/></a>"
      ]
    },
    {
      "cell_type": "markdown",
      "metadata": {
        "id": "kcvLCI0FLG3J",
        "colab_type": "text"
      },
      "source": [
        "#FRAUD DETECTION\n",
        "\n",
        "Our Tasks:\n",
        "  \n",
        "  - Explore the datasets/ Visualize\n",
        "  - Decide which features are important\n",
        "  - Preform Machine Learning\n",
        "  - Test the model on the testing set\n",
        "  ***Credit card Data is comign from a Kaggle Dataset and uploaded to google drive named 'creditcard.csv'\n",
        "  \n",
        "  If Class-in-balance in datasets use the clustering method.\n",
        "  ***Reminder, uploaded files will get deleted when this runtime is recycled, this included the creditcard.csv data file.\n"
      ]
    },
    {
      "cell_type": "code",
      "metadata": {
        "id": "ZbM_LNx4LLpQ",
        "colab_type": "code",
        "colab": {}
      },
      "source": [
        "import numpy as np\n",
        "import sklearn as sk\n",
        "import pandas as pd\n",
        "import matplotlib.pyplot as plt\n",
        "from sklearn.preprocessing import scale\n",
        "import random"
      ],
      "execution_count": 0,
      "outputs": []
    },
    {
      "cell_type": "code",
      "metadata": {
        "id": "fOajLJjRLQ5n",
        "colab_type": "code",
        "outputId": "3778800f-df0b-4b78-ecfd-a96e18447d86",
        "colab": {
          "base_uri": "https://localhost:8080/",
          "height": 244
        }
      },
      "source": [
        "df = pd.read_csv('creditcard.csv', low_memory=False)\n",
        "df = df.sample(frac=1).reset_index(drop=True)\n",
        "df.head()"
      ],
      "execution_count": 0,
      "outputs": [
        {
          "output_type": "execute_result",
          "data": {
            "text/html": [
              "<div>\n",
              "<style scoped>\n",
              "    .dataframe tbody tr th:only-of-type {\n",
              "        vertical-align: middle;\n",
              "    }\n",
              "\n",
              "    .dataframe tbody tr th {\n",
              "        vertical-align: top;\n",
              "    }\n",
              "\n",
              "    .dataframe thead th {\n",
              "        text-align: right;\n",
              "    }\n",
              "</style>\n",
              "<table border=\"1\" class=\"dataframe\">\n",
              "  <thead>\n",
              "    <tr style=\"text-align: right;\">\n",
              "      <th></th>\n",
              "      <th>Time</th>\n",
              "      <th>V1</th>\n",
              "      <th>V2</th>\n",
              "      <th>V3</th>\n",
              "      <th>V4</th>\n",
              "      <th>V5</th>\n",
              "      <th>V6</th>\n",
              "      <th>V7</th>\n",
              "      <th>V8</th>\n",
              "      <th>V9</th>\n",
              "      <th>V10</th>\n",
              "      <th>V11</th>\n",
              "      <th>V12</th>\n",
              "      <th>V13</th>\n",
              "      <th>V14</th>\n",
              "      <th>V15</th>\n",
              "      <th>V16</th>\n",
              "      <th>V17</th>\n",
              "      <th>V18</th>\n",
              "      <th>V19</th>\n",
              "      <th>V20</th>\n",
              "      <th>V21</th>\n",
              "      <th>V22</th>\n",
              "      <th>V23</th>\n",
              "      <th>V24</th>\n",
              "      <th>V25</th>\n",
              "      <th>V26</th>\n",
              "      <th>V27</th>\n",
              "      <th>V28</th>\n",
              "      <th>Amount</th>\n",
              "      <th>Class</th>\n",
              "    </tr>\n",
              "  </thead>\n",
              "  <tbody>\n",
              "    <tr>\n",
              "      <th>0</th>\n",
              "      <td>53506</td>\n",
              "      <td>-0.202089</td>\n",
              "      <td>1.322589</td>\n",
              "      <td>0.402890</td>\n",
              "      <td>0.789767</td>\n",
              "      <td>0.267389</td>\n",
              "      <td>-0.362254</td>\n",
              "      <td>0.400755</td>\n",
              "      <td>0.241960</td>\n",
              "      <td>-0.830744</td>\n",
              "      <td>-0.395570</td>\n",
              "      <td>-1.173997</td>\n",
              "      <td>0.482737</td>\n",
              "      <td>1.520020</td>\n",
              "      <td>0.319582</td>\n",
              "      <td>0.899270</td>\n",
              "      <td>0.033596</td>\n",
              "      <td>-0.417036</td>\n",
              "      <td>0.232038</td>\n",
              "      <td>0.651517</td>\n",
              "      <td>-0.047627</td>\n",
              "      <td>0.128844</td>\n",
              "      <td>0.372893</td>\n",
              "      <td>-0.193985</td>\n",
              "      <td>-0.421908</td>\n",
              "      <td>0.017524</td>\n",
              "      <td>-0.279336</td>\n",
              "      <td>-0.033631</td>\n",
              "      <td>-0.024661</td>\n",
              "      <td>1.50</td>\n",
              "      <td>0.0</td>\n",
              "    </tr>\n",
              "    <tr>\n",
              "      <th>1</th>\n",
              "      <td>41060</td>\n",
              "      <td>-0.077743</td>\n",
              "      <td>-2.085376</td>\n",
              "      <td>0.185204</td>\n",
              "      <td>1.146710</td>\n",
              "      <td>-1.430538</td>\n",
              "      <td>-0.202209</td>\n",
              "      <td>0.504283</td>\n",
              "      <td>-0.135845</td>\n",
              "      <td>0.145280</td>\n",
              "      <td>-0.314090</td>\n",
              "      <td>1.394725</td>\n",
              "      <td>1.369249</td>\n",
              "      <td>0.502000</td>\n",
              "      <td>0.151331</td>\n",
              "      <td>-0.261580</td>\n",
              "      <td>0.297925</td>\n",
              "      <td>-0.385543</td>\n",
              "      <td>0.182638</td>\n",
              "      <td>-0.046323</td>\n",
              "      <td>1.247714</td>\n",
              "      <td>0.411588</td>\n",
              "      <td>-0.153562</td>\n",
              "      <td>-0.582156</td>\n",
              "      <td>0.629181</td>\n",
              "      <td>0.102674</td>\n",
              "      <td>0.377782</td>\n",
              "      <td>-0.139238</td>\n",
              "      <td>0.122034</td>\n",
              "      <td>652.00</td>\n",
              "      <td>0.0</td>\n",
              "    </tr>\n",
              "    <tr>\n",
              "      <th>2</th>\n",
              "      <td>39027</td>\n",
              "      <td>1.239285</td>\n",
              "      <td>-0.120862</td>\n",
              "      <td>0.323093</td>\n",
              "      <td>0.255099</td>\n",
              "      <td>-0.519177</td>\n",
              "      <td>-0.416436</td>\n",
              "      <td>-0.245757</td>\n",
              "      <td>0.093713</td>\n",
              "      <td>0.445376</td>\n",
              "      <td>-0.014341</td>\n",
              "      <td>0.629420</td>\n",
              "      <td>0.080349</td>\n",
              "      <td>-1.726744</td>\n",
              "      <td>0.563578</td>\n",
              "      <td>-0.192497</td>\n",
              "      <td>0.270624</td>\n",
              "      <td>-0.351763</td>\n",
              "      <td>0.121488</td>\n",
              "      <td>0.659204</td>\n",
              "      <td>-0.191212</td>\n",
              "      <td>-0.237768</td>\n",
              "      <td>-0.684155</td>\n",
              "      <td>0.031128</td>\n",
              "      <td>-0.003906</td>\n",
              "      <td>0.283688</td>\n",
              "      <td>0.454109</td>\n",
              "      <td>-0.058460</td>\n",
              "      <td>-0.006664</td>\n",
              "      <td>4.00</td>\n",
              "      <td>0.0</td>\n",
              "    </tr>\n",
              "    <tr>\n",
              "      <th>3</th>\n",
              "      <td>44270</td>\n",
              "      <td>0.605294</td>\n",
              "      <td>-1.371018</td>\n",
              "      <td>0.677834</td>\n",
              "      <td>0.236808</td>\n",
              "      <td>-1.084637</td>\n",
              "      <td>0.694507</td>\n",
              "      <td>-0.477658</td>\n",
              "      <td>0.296944</td>\n",
              "      <td>0.955168</td>\n",
              "      <td>-0.453150</td>\n",
              "      <td>0.809690</td>\n",
              "      <td>1.169809</td>\n",
              "      <td>-0.178572</td>\n",
              "      <td>-0.255494</td>\n",
              "      <td>-0.674848</td>\n",
              "      <td>-0.076157</td>\n",
              "      <td>0.070195</td>\n",
              "      <td>-0.408950</td>\n",
              "      <td>0.431822</td>\n",
              "      <td>0.474835</td>\n",
              "      <td>-0.007621</td>\n",
              "      <td>-0.407467</td>\n",
              "      <td>-0.188918</td>\n",
              "      <td>-0.211229</td>\n",
              "      <td>-0.031246</td>\n",
              "      <td>0.945291</td>\n",
              "      <td>-0.075634</td>\n",
              "      <td>0.046114</td>\n",
              "      <td>289.65</td>\n",
              "      <td>0.0</td>\n",
              "    </tr>\n",
              "    <tr>\n",
              "      <th>4</th>\n",
              "      <td>32897</td>\n",
              "      <td>-0.383204</td>\n",
              "      <td>0.858247</td>\n",
              "      <td>1.692233</td>\n",
              "      <td>-0.103150</td>\n",
              "      <td>0.260327</td>\n",
              "      <td>-0.429136</td>\n",
              "      <td>0.776543</td>\n",
              "      <td>-0.122872</td>\n",
              "      <td>-0.193001</td>\n",
              "      <td>-0.129043</td>\n",
              "      <td>-0.150027</td>\n",
              "      <td>-0.248142</td>\n",
              "      <td>-0.384147</td>\n",
              "      <td>0.036919</td>\n",
              "      <td>1.171779</td>\n",
              "      <td>-0.161007</td>\n",
              "      <td>-0.196230</td>\n",
              "      <td>-0.783254</td>\n",
              "      <td>-0.337916</td>\n",
              "      <td>0.118829</td>\n",
              "      <td>-0.254175</td>\n",
              "      <td>-0.485996</td>\n",
              "      <td>-0.023449</td>\n",
              "      <td>0.044913</td>\n",
              "      <td>-0.305058</td>\n",
              "      <td>0.073718</td>\n",
              "      <td>0.115050</td>\n",
              "      <td>-0.105667</td>\n",
              "      <td>1.98</td>\n",
              "      <td>0.0</td>\n",
              "    </tr>\n",
              "  </tbody>\n",
              "</table>\n",
              "</div>"
            ],
            "text/plain": [
              "    Time        V1        V2        V3  ...       V27       V28  Amount  Class\n",
              "0  53506 -0.202089  1.322589  0.402890  ... -0.033631 -0.024661    1.50    0.0\n",
              "1  41060 -0.077743 -2.085376  0.185204  ... -0.139238  0.122034  652.00    0.0\n",
              "2  39027  1.239285 -0.120862  0.323093  ... -0.058460 -0.006664    4.00    0.0\n",
              "3  44270  0.605294 -1.371018  0.677834  ... -0.075634  0.046114  289.65    0.0\n",
              "4  32897 -0.383204  0.858247  1.692233  ...  0.115050 -0.105667    1.98    0.0\n",
              "\n",
              "[5 rows x 31 columns]"
            ]
          },
          "metadata": {
            "tags": []
          },
          "execution_count": 2
        }
      ]
    },
    {
      "cell_type": "markdown",
      "metadata": {
        "id": "mLmO7PUOLU0d",
        "colab_type": "text"
      },
      "source": [
        "The following show's how many Fraud and Non Fraud cases their are"
      ]
    },
    {
      "cell_type": "code",
      "metadata": {
        "id": "U8cyjDVQLbyh",
        "colab_type": "code",
        "outputId": "fd06bda8-7426-429b-d255-60c8643b830a",
        "colab": {
          "base_uri": "https://localhost:8080/",
          "height": 51
        }
      },
      "source": [
        "fraud = df.loc[df['Class'] == 1]\n",
        "non_frauds = df.loc[df['Class'] == 0]\n",
        "print(len(fraud))\n",
        "print(len(non_frauds))"
      ],
      "execution_count": 0,
      "outputs": [
        {
          "output_type": "stream",
          "text": [
            "177\n",
            "71218\n"
          ],
          "name": "stdout"
        }
      ]
    },
    {
      "cell_type": "markdown",
      "metadata": {
        "id": "vpzD2DJsMRrc",
        "colab_type": "text"
      },
      "source": [
        "Visualize the *Fraud* VS the *Non Fraud* cases in dollar based transaction sizes.\n"
      ]
    },
    {
      "cell_type": "code",
      "metadata": {
        "id": "lkgKp9r4Lhhb",
        "colab_type": "code",
        "outputId": "aa304f10-ef60-474a-cd7b-7df6c3dae5ac",
        "colab": {
          "base_uri": "https://localhost:8080/",
          "height": 257
        }
      },
      "source": [
        "labels = 'Fraud Cases', 'Non-Fraud'\n",
        "sizes = [177, 71218]\n",
        "explode = (0.1, 0.0)  # only \"explode\" the 2nd slice (i.e. 'Fraud Cases')\n",
        "\n",
        "fig1, ax1 = plt.subplots()\n",
        "ax1.pie(sizes, explode=explode, labels=labels, autopct='%1.1f%%',\n",
        "        shadow=True, startangle=90)\n",
        "ax1.axis('equal')  # Equal aspect ratio ensures that pie is drawn as a circle.\n",
        "\n",
        "plt.show()"
      ],
      "execution_count": 0,
      "outputs": [
        {
          "output_type": "display_data",
          "data": {
            "image/png": "[encoded data removed]",
            "text/plain": [
              "<Figure size 432x288 with 1 Axes>"
            ]
          },
          "metadata": {
            "tags": []
          }
        }
      ]
    },
    {
      "cell_type": "code",
      "metadata": {
        "id": "SV316C9ALog9",
        "colab_type": "code",
        "outputId": "cd82598c-00c7-457f-b88e-0fced65b53f0",
        "colab": {
          "base_uri": "https://localhost:8080/",
          "height": 283
        }
      },
      "source": [
        "ax = fraud.plot.scatter(x='Amount', y='Class', color='Orange', label='Fraud')\n",
        "non_frauds.plot.scatter(x='Amount', y='Class', color='Blue', label='Normal', ax=ax)\n",
        "plt.show()"
      ],
      "execution_count": 0,
      "outputs": [
        {
          "output_type": "display_data",
          "data": {
            "image/png": "[encoded data removed]",
            "text/plain": [
              "<Figure size 432x288 with 1 Axes>"
            ]
          },
          "metadata": {
            "tags": []
          }
        }
      ]
    },
    {
      "cell_type": "markdown",
      "metadata": {
        "id": "ICFJ-KApMbLR",
        "colab_type": "text"
      },
      "source": [
        "As we can see most if not all Fraud cases are in the amounts less than $5000."
      ]
    },
    {
      "cell_type": "markdown",
      "metadata": {
        "id": "f-p8W7DMMi51",
        "colab_type": "text"
      },
      "source": [
        "#Machine Learning Time"
      ]
    },
    {
      "cell_type": "code",
      "metadata": {
        "id": "CqkczuEKMlst",
        "colab_type": "code",
        "colab": {}
      },
      "source": [
        "from sklearn import linear_model\n",
        "from sklearn.model_selection import train_test_split"
      ],
      "execution_count": 0,
      "outputs": []
    },
    {
      "cell_type": "markdown",
      "metadata": {
        "id": "79Svj58NMpUo",
        "colab_type": "text"
      },
      "source": [
        "**Train** 35%/ Test 65%"
      ]
    },
    {
      "cell_type": "code",
      "metadata": {
        "id": "hIc7k7XTMqOP",
        "colab_type": "code",
        "colab": {}
      },
      "source": [
        "x = df.iloc[:, :-1]\n",
        "y = df['Class']\n",
        "\n",
        "X_train, X_test, Y_train, Y_test = train_test_split(x, y, test_size=0.35)"
      ],
      "execution_count": 0,
      "outputs": []
    },
    {
      "cell_type": "markdown",
      "metadata": {
        "id": "2g2BKfFCMwj9",
        "colab_type": "text"
      },
      "source": [
        "*1e5* = 100,000. C is a penalty term, used to disincentivize and regulate against over fig."
      ]
    },
    {
      "cell_type": "code",
      "metadata": {
        "id": "HJAV5SJiMxSu",
        "colab_type": "code",
        "outputId": "28e3d581-3564-46a2-aa93-865b095f983a",
        "colab": {
          "base_uri": "https://localhost:8080/",
          "height": 415
        }
      },
      "source": [
        "logistic = linear_model.LogisticRegression(C=1e5)\n",
        "logistic.fit(X_train, Y_train)\n",
        "print('Score;', logistic.score(X_test, Y_test))"
      ],
      "execution_count": 0,
      "outputs": [
        {
          "output_type": "stream",
          "text": [
            "/usr/local/lib/python3.6/dist-packages/sklearn/linear_model/logistic.py:432: FutureWarning: Default solver will be changed to 'lbfgs' in 0.22. Specify a solver to silence this warning.\n",
            "  FutureWarning)\n"
          ],
          "name": "stderr"
        },
        {
          "output_type": "error",
          "ename": "ValueError",
          "evalue": "ignored",
          "traceback": [
            "\u001b[0;31m---------------------------------------------------------------------------\u001b[0m",
            "\u001b[0;31mValueError\u001b[0m                                Traceback (most recent call last)",
            "\u001b[0;32m<ipython-input-9-a9d976d6497e>\u001b[0m in \u001b[0;36m<module>\u001b[0;34m()\u001b[0m\n\u001b[1;32m      1\u001b[0m \u001b[0mlogistic\u001b[0m \u001b[0;34m=\u001b[0m \u001b[0mlinear_model\u001b[0m\u001b[0;34m.\u001b[0m\u001b[0mLogisticRegression\u001b[0m\u001b[0;34m(\u001b[0m\u001b[0mC\u001b[0m\u001b[0;34m=\u001b[0m\u001b[0;36m1e5\u001b[0m\u001b[0;34m)\u001b[0m\u001b[0;34m\u001b[0m\u001b[0;34m\u001b[0m\u001b[0m\n\u001b[1;32m      2\u001b[0m \u001b[0mlogistic\u001b[0m\u001b[0;34m.\u001b[0m\u001b[0mfit\u001b[0m\u001b[0;34m(\u001b[0m\u001b[0mX_train\u001b[0m\u001b[0;34m,\u001b[0m \u001b[0mY_train\u001b[0m\u001b[0;34m)\u001b[0m\u001b[0;34m\u001b[0m\u001b[0;34m\u001b[0m\u001b[0m\n\u001b[0;32m----> 3\u001b[0;31m \u001b[0mprint\u001b[0m\u001b[0;34m(\u001b[0m\u001b[0;34m'Score;'\u001b[0m\u001b[0;34m,\u001b[0m \u001b[0mlogistic\u001b[0m\u001b[0;34m.\u001b[0m\u001b[0mscore\u001b[0m\u001b[0;34m(\u001b[0m\u001b[0mX_test\u001b[0m\u001b[0;34m,\u001b[0m \u001b[0mY_test\u001b[0m\u001b[0;34m)\u001b[0m\u001b[0;34m)\u001b[0m\u001b[0;34m\u001b[0m\u001b[0;34m\u001b[0m\u001b[0m\n\u001b[0m",
            "\u001b[0;32m/usr/local/lib/python3.6/dist-packages/sklearn/base.py\u001b[0m in \u001b[0;36mscore\u001b[0;34m(self, X, y, sample_weight)\u001b[0m\n\u001b[1;32m    355\u001b[0m         \"\"\"\n\u001b[1;32m    356\u001b[0m         \u001b[0;32mfrom\u001b[0m \u001b[0;34m.\u001b[0m\u001b[0mmetrics\u001b[0m \u001b[0;32mimport\u001b[0m \u001b[0maccuracy_score\u001b[0m\u001b[0;34m\u001b[0m\u001b[0;34m\u001b[0m\u001b[0m\n\u001b[0;32m--> 357\u001b[0;31m         \u001b[0;32mreturn\u001b[0m \u001b[0maccuracy_score\u001b[0m\u001b[0;34m(\u001b[0m\u001b[0my\u001b[0m\u001b[0;34m,\u001b[0m \u001b[0mself\u001b[0m\u001b[0;34m.\u001b[0m\u001b[0mpredict\u001b[0m\u001b[0;34m(\u001b[0m\u001b[0mX\u001b[0m\u001b[0;34m)\u001b[0m\u001b[0;34m,\u001b[0m \u001b[0msample_weight\u001b[0m\u001b[0;34m=\u001b[0m\u001b[0msample_weight\u001b[0m\u001b[0;34m)\u001b[0m\u001b[0;34m\u001b[0m\u001b[0;34m\u001b[0m\u001b[0m\n\u001b[0m\u001b[1;32m    358\u001b[0m \u001b[0;34m\u001b[0m\u001b[0m\n\u001b[1;32m    359\u001b[0m \u001b[0;34m\u001b[0m\u001b[0m\n",
            "\u001b[0;32m/usr/local/lib/python3.6/dist-packages/sklearn/linear_model/base.py\u001b[0m in \u001b[0;36mpredict\u001b[0;34m(self, X)\u001b[0m\n\u001b[1;32m    287\u001b[0m             \u001b[0mPredicted\u001b[0m \u001b[0;32mclass\u001b[0m \u001b[0mlabel\u001b[0m \u001b[0mper\u001b[0m \u001b[0msample\u001b[0m\u001b[0;34m.\u001b[0m\u001b[0;34m\u001b[0m\u001b[0;34m\u001b[0m\u001b[0m\n\u001b[1;32m    288\u001b[0m         \"\"\"\n\u001b[0;32m--> 289\u001b[0;31m         \u001b[0mscores\u001b[0m \u001b[0;34m=\u001b[0m \u001b[0mself\u001b[0m\u001b[0;34m.\u001b[0m\u001b[0mdecision_function\u001b[0m\u001b[0;34m(\u001b[0m\u001b[0mX\u001b[0m\u001b[0;34m)\u001b[0m\u001b[0;34m\u001b[0m\u001b[0;34m\u001b[0m\u001b[0m\n\u001b[0m\u001b[1;32m    290\u001b[0m         \u001b[0;32mif\u001b[0m \u001b[0mlen\u001b[0m\u001b[0;34m(\u001b[0m\u001b[0mscores\u001b[0m\u001b[0;34m.\u001b[0m\u001b[0mshape\u001b[0m\u001b[0;34m)\u001b[0m \u001b[0;34m==\u001b[0m \u001b[0;36m1\u001b[0m\u001b[0;34m:\u001b[0m\u001b[0;34m\u001b[0m\u001b[0;34m\u001b[0m\u001b[0m\n\u001b[1;32m    291\u001b[0m             \u001b[0mindices\u001b[0m \u001b[0;34m=\u001b[0m \u001b[0;34m(\u001b[0m\u001b[0mscores\u001b[0m \u001b[0;34m>\u001b[0m \u001b[0;36m0\u001b[0m\u001b[0;34m)\u001b[0m\u001b[0;34m.\u001b[0m\u001b[0mastype\u001b[0m\u001b[0;34m(\u001b[0m\u001b[0mnp\u001b[0m\u001b[0;34m.\u001b[0m\u001b[0mint\u001b[0m\u001b[0;34m)\u001b[0m\u001b[0;34m\u001b[0m\u001b[0;34m\u001b[0m\u001b[0m\n",
            "\u001b[0;32m/usr/local/lib/python3.6/dist-packages/sklearn/linear_model/base.py\u001b[0m in \u001b[0;36mdecision_function\u001b[0;34m(self, X)\u001b[0m\n\u001b[1;32m    263\u001b[0m                                  \"yet\" % {'name': type(self).__name__})\n\u001b[1;32m    264\u001b[0m \u001b[0;34m\u001b[0m\u001b[0m\n\u001b[0;32m--> 265\u001b[0;31m         \u001b[0mX\u001b[0m \u001b[0;34m=\u001b[0m \u001b[0mcheck_array\u001b[0m\u001b[0;34m(\u001b[0m\u001b[0mX\u001b[0m\u001b[0;34m,\u001b[0m \u001b[0maccept_sparse\u001b[0m\u001b[0;34m=\u001b[0m\u001b[0;34m'csr'\u001b[0m\u001b[0;34m)\u001b[0m\u001b[0;34m\u001b[0m\u001b[0;34m\u001b[0m\u001b[0m\n\u001b[0m\u001b[1;32m    266\u001b[0m \u001b[0;34m\u001b[0m\u001b[0m\n\u001b[1;32m    267\u001b[0m         \u001b[0mn_features\u001b[0m \u001b[0;34m=\u001b[0m \u001b[0mself\u001b[0m\u001b[0;34m.\u001b[0m\u001b[0mcoef_\u001b[0m\u001b[0;34m.\u001b[0m\u001b[0mshape\u001b[0m\u001b[0;34m[\u001b[0m\u001b[0;36m1\u001b[0m\u001b[0;34m]\u001b[0m\u001b[0;34m\u001b[0m\u001b[0;34m\u001b[0m\u001b[0m\n",
            "\u001b[0;32m/usr/local/lib/python3.6/dist-packages/sklearn/utils/validation.py\u001b[0m in \u001b[0;36mcheck_array\u001b[0;34m(array, accept_sparse, accept_large_sparse, dtype, order, copy, force_all_finite, ensure_2d, allow_nd, ensure_min_samples, ensure_min_features, warn_on_dtype, estimator)\u001b[0m\n\u001b[1;32m    540\u001b[0m         \u001b[0;32mif\u001b[0m \u001b[0mforce_all_finite\u001b[0m\u001b[0;34m:\u001b[0m\u001b[0;34m\u001b[0m\u001b[0;34m\u001b[0m\u001b[0m\n\u001b[1;32m    541\u001b[0m             _assert_all_finite(array,\n\u001b[0;32m--> 542\u001b[0;31m                                allow_nan=force_all_finite == 'allow-nan')\n\u001b[0m\u001b[1;32m    543\u001b[0m \u001b[0;34m\u001b[0m\u001b[0m\n\u001b[1;32m    544\u001b[0m     \u001b[0;32mif\u001b[0m \u001b[0mensure_min_samples\u001b[0m \u001b[0;34m>\u001b[0m \u001b[0;36m0\u001b[0m\u001b[0;34m:\u001b[0m\u001b[0;34m\u001b[0m\u001b[0;34m\u001b[0m\u001b[0m\n",
            "\u001b[0;32m/usr/local/lib/python3.6/dist-packages/sklearn/utils/validation.py\u001b[0m in \u001b[0;36m_assert_all_finite\u001b[0;34m(X, allow_nan)\u001b[0m\n\u001b[1;32m     54\u001b[0m                 not allow_nan and not np.isfinite(X).all()):\n\u001b[1;32m     55\u001b[0m             \u001b[0mtype_err\u001b[0m \u001b[0;34m=\u001b[0m \u001b[0;34m'infinity'\u001b[0m \u001b[0;32mif\u001b[0m \u001b[0mallow_nan\u001b[0m \u001b[0;32melse\u001b[0m \u001b[0;34m'NaN, infinity'\u001b[0m\u001b[0;34m\u001b[0m\u001b[0;34m\u001b[0m\u001b[0m\n\u001b[0;32m---> 56\u001b[0;31m             \u001b[0;32mraise\u001b[0m \u001b[0mValueError\u001b[0m\u001b[0;34m(\u001b[0m\u001b[0mmsg_err\u001b[0m\u001b[0;34m.\u001b[0m\u001b[0mformat\u001b[0m\u001b[0;34m(\u001b[0m\u001b[0mtype_err\u001b[0m\u001b[0;34m,\u001b[0m \u001b[0mX\u001b[0m\u001b[0;34m.\u001b[0m\u001b[0mdtype\u001b[0m\u001b[0;34m)\u001b[0m\u001b[0;34m)\u001b[0m\u001b[0;34m\u001b[0m\u001b[0;34m\u001b[0m\u001b[0m\n\u001b[0m\u001b[1;32m     57\u001b[0m     \u001b[0;31m# for object dtype data, we only check for NaNs (GH-13254)\u001b[0m\u001b[0;34m\u001b[0m\u001b[0;34m\u001b[0m\u001b[0;34m\u001b[0m\u001b[0m\n\u001b[1;32m     58\u001b[0m     \u001b[0;32melif\u001b[0m \u001b[0mX\u001b[0m\u001b[0;34m.\u001b[0m\u001b[0mdtype\u001b[0m \u001b[0;34m==\u001b[0m \u001b[0mnp\u001b[0m\u001b[0;34m.\u001b[0m\u001b[0mdtype\u001b[0m\u001b[0;34m(\u001b[0m\u001b[0;34m'object'\u001b[0m\u001b[0;34m)\u001b[0m \u001b[0;32mand\u001b[0m \u001b[0;32mnot\u001b[0m \u001b[0mallow_nan\u001b[0m\u001b[0;34m:\u001b[0m\u001b[0;34m\u001b[0m\u001b[0;34m\u001b[0m\u001b[0m\n",
            "\u001b[0;31mValueError\u001b[0m: Input contains NaN, infinity or a value too large for dtype('float64')."
          ]
        }
      ]
    },
    {
      "cell_type": "markdown",
      "metadata": {
        "id": "Z8Jt-2dlNBb5",
        "colab_type": "text"
      },
      "source": [
        "/usr/local/lib/python3.6/dist-packages/sklearn/linear_model/logistic.py:432: FutureWarning: Default solver will be changed to 'lbfgs' in 0.22. Specify a solver to silence this warning.\n",
        "  FutureWarning)\n",
        "Score; 0.9989968199191437"
      ]
    },
    {
      "cell_type": "markdown",
      "metadata": {
        "id": "64ks7HFzNMXQ",
        "colab_type": "text"
      },
      "source": [
        "**Score** is 0.9989%"
      ]
    },
    {
      "cell_type": "code",
      "metadata": {
        "id": "sKkMuz-dNQJX",
        "colab_type": "code",
        "colab": {}
      },
      "source": [
        "y_predicted = np.array(logistic.predict(X_test))\n",
        "print(y_predicted)"
      ],
      "execution_count": 0,
      "outputs": []
    },
    {
      "cell_type": "markdown",
      "metadata": {
        "id": "2txpeq5SNTCc",
        "colab_type": "text"
      },
      "source": [
        "[0 0 0 ... 0 0 0]"
      ]
    },
    {
      "cell_type": "markdown",
      "metadata": {
        "id": "N5L5idaENVTv",
        "colab_type": "text"
      },
      "source": [
        "**Most** is not fraud"
      ]
    }
  ]
}